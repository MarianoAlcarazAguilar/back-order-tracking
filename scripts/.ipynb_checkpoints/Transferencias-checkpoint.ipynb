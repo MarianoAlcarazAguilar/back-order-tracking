{
 "cells": [
  {
   "cell_type": "markdown",
   "id": "24ba6ca5",
   "metadata": {},
   "source": [
    "# Limpieza de Transferencias"
   ]
  },
  {
   "cell_type": "markdown",
   "id": "a6020d58",
   "metadata": {},
   "source": [
    "Este código necesita lo siguiente para que funciones:\n",
    "- Archivo de transferncias con fecha en el nombre\n",
    "- Archivo de conversión de unidades en formato csv"
   ]
  },
  {
   "cell_type": "code",
   "execution_count": 1,
   "id": "90b786d0",
   "metadata": {},
   "outputs": [],
   "source": [
    "import re\n",
    "import pandas as pd\n",
    "import numpy as np\n",
    "import openpyxl as xl\n",
    "from excel_functions import ExcelFunctions\n",
    "from openpyxl.utils import get_column_letter\n",
    "from openpyxl.utils.dataframe import dataframe_to_rows\n",
    "from openpyxl.styles import PatternFill, Font, Alignment, Border, Side"
   ]
  },
  {
   "cell_type": "code",
   "execution_count": 3,
   "id": "f3b697a5",
   "metadata": {},
   "outputs": [],
   "source": [
    "unidades = pd.read_csv(f'../static_data/conversion_unidades.csv', usecols=['sku', 'pza_cja'])"
   ]
  },
  {
   "cell_type": "code",
   "execution_count": 4,
   "id": "f65c970e",
   "metadata": {},
   "outputs": [],
   "source": [
    "def set_almacenes_to_cero(x, unwanted_almacenes = [136, 17]):\n",
    "    '''\n",
    "    Esta función se enciarga de convertir a 0 todos los almacenes especificados\n",
    "    '''\n",
    "    almacen = x.almacen\n",
    "    if almacen in unwanted_almacenes:\n",
    "        return 0\n",
    "    else:\n",
    "        return x.cantidad"
   ]
  },
  {
   "cell_type": "code",
   "execution_count": 5,
   "id": "e0ce5147",
   "metadata": {},
   "outputs": [],
   "source": [
    "def convierte_a_cajas(x, col_names={'unidad_medida':'um', 'cantidad':'cantidad'}):\n",
    "    '''\n",
    "    Esta función convierte todasl as piezas en cajas\n",
    "    '''\n",
    "    um = x[col_names['unidad_medida']]\n",
    "    cantidad = x[col_names['cantidad']]\n",
    "    if um == 'PZ':\n",
    "        resp = cantidad / x.pza_cja\n",
    "    else:\n",
    "        resp = cantidad\n",
    "    resp = np.ceil(resp)\n",
    "    return resp"
   ]
  },
  {
   "cell_type": "code",
   "execution_count": 6,
   "id": "c2eafd9c",
   "metadata": {},
   "outputs": [],
   "source": [
    "def clean_planta_name(x, index_pos=-1):\n",
    "    '''\n",
    "    Esta función limpia los nombres de las plantas para que no sean tan largos\n",
    "    '''\n",
    "    name = x.planta\n",
    "    try:\n",
    "        return name.split()[index_pos].lower()\n",
    "    except:\n",
    "        print(f'Algo no está bien con el nombre: {name}')\n",
    "        return None"
   ]
  },
  {
   "cell_type": "code",
   "execution_count": 7,
   "id": "ad2d799a",
   "metadata": {},
   "outputs": [],
   "source": [
    "def extraer_fecha_from_nombre(nombre):\n",
    "    # Definimos una lista de posibles patrones de fecha que podrían aparecer en el nombre\n",
    "    patrones_fecha = [\n",
    "        r'\\b\\d{1,2}-\\d{1,2}-\\d{4}\\b',   # Formato dd-mm-yyyy\n",
    "        r'\\b\\d{1,2}/\\d{1,2}/\\d{4}\\b',   # Formato dd/mm/yyyy\n",
    "        r'\\b\\d{4}-\\d{1,2}-\\d{1,2}\\b',   # Formato yyyy-mm-dd\n",
    "        r'\\b\\d{4}/\\d{1,2}/\\d{1,2}\\b',   # Formato yyyy/mm/dd\n",
    "    ]\n",
    "\n",
    "    # Buscamos los patrones en el nombre y extraemos la primera coincidencia de fecha\n",
    "    fecha = None\n",
    "    for patron in patrones_fecha:\n",
    "        coincidencias = re.findall(patron, nombre)\n",
    "        if coincidencias:\n",
    "            fecha = coincidencias[0]\n",
    "            break\n",
    "\n",
    "    return fecha"
   ]
  },
  {
   "cell_type": "code",
   "execution_count": 10,
   "id": "41caee92",
   "metadata": {},
   "outputs": [],
   "source": [
    "def clean_transferencias(file, dir_location: str, file_name: str, return_data=False):\n",
    "    '''\n",
    "    Esta fucnión se encuarga de toda la funcionalidad\n",
    "    '''\n",
    "    ef = ExcelFunctions()\n",
    "    \n",
    "    df_transferencias = pd.read_excel(file)\n",
    "    \n",
    "    columnas_necesarias = ['Nombre venta', 'Articulo', 'Descripción', 'Cantidad', 'UM', 'Almacén']\n",
    "    fecha = extraer_fecha_from_nombre(file_name)\n",
    "    \n",
    "    processed_transfers = (df_transferencias\n",
    "     [columnas_necesarias]\n",
    "     .rename(columns={'Nombre venta':'planta', 'Articulo':'sku', 'Cantidad':'cantidad', 'UM': 'um', 'Almacén':'almacen', 'Descripción':'descripcion'})\n",
    "     .merge(unidades, on='sku', how='left')\n",
    "     .assign(\n",
    "         c_=lambda df: df.apply(lambda x: set_almacenes_to_cero(x), axis=1), # Convertimos a 0 los almacenes no deseados,\n",
    "         cantidad=lambda df: df.apply(lambda x: convierte_a_cajas(x, col_names={'unidad_medida':'um', 'cantidad':'c_'}), axis=1), # Convertimos todo a cajas\n",
    "         fecha=fecha, # La voy a dejar en formato string\n",
    "         planta=lambda df: df.apply(clean_planta_name, axis=1)\n",
    "     ) \n",
    "     .drop(['c_', 'pza_cja', 'um'], axis=1)\n",
    "     .pivot_table(index=['fecha', 'sku', 'descripcion'], columns='planta', values='cantidad', aggfunc=np.sum) # Hacemos el reporte por planta\n",
    "     .assign(total=lambda x: x.sum(axis=1)) # Sumamos el total\n",
    "     .reset_index()\n",
    "     .sort_values('sku')\n",
    "    )\n",
    "    \n",
    "    # Guardamos el archivo generado en formato excel bonito\n",
    "    saving_name = f\"transferencias_plantas_{fecha.replace('-','_')}\"\n",
    "    byte_data, filename = ef.save_and_download_excel_file(\n",
    "        df=processed_transfers,\n",
    "        dir_location=dir_location,\n",
    "        file_name=saving_name,\n",
    "        sheet_name='Transferncias',\n",
    "        n_cols_to_bold=3,\n",
    "        return_data=return_data\n",
    "    )\n",
    "    if return_data:\n",
    "        return byte_data, filename\n",
    "    \n",
    "    print(f'{saving_name} updated succesfully')"
   ]
  },
  {
   "cell_type": "code",
   "execution_count": 11,
   "id": "cae58836",
   "metadata": {},
   "outputs": [
    {
     "name": "stdout",
     "output_type": "stream",
     "text": [
      "transferencias_plantas_31_07_2023 updated succesfully\n"
     ]
    }
   ],
   "source": [
    "clean_transferencias(\n",
    "    '../raw_data/Reporte T2 31-07-2023.xlsx', \n",
    "    '../transformed_data',\n",
    "    'Reporte T2 31-07-2023.xlsx',\n",
    "    return_data=False\n",
    ")"
   ]
  }
 ],
 "metadata": {
  "kernelspec": {
   "display_name": "Python 3 (ipykernel)",
   "language": "python",
   "name": "python3"
  },
  "language_info": {
   "codemirror_mode": {
    "name": "ipython",
    "version": 3
   },
   "file_extension": ".py",
   "mimetype": "text/x-python",
   "name": "python",
   "nbconvert_exporter": "python",
   "pygments_lexer": "ipython3",
   "version": "3.10.9"
  }
 },
 "nbformat": 4,
 "nbformat_minor": 5
}
