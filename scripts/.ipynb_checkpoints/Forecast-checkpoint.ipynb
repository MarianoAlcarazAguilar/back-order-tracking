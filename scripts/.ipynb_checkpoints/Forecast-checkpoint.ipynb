{
 "cells": [
  {
   "cell_type": "markdown",
   "id": "9244a58f",
   "metadata": {},
   "source": [
    "# Forecast"
   ]
  },
  {
   "cell_type": "code",
   "execution_count": 1,
   "id": "7ac4cf4e",
   "metadata": {},
   "outputs": [],
   "source": [
    "import re\n",
    "import calendar\n",
    "import pandas as pd\n",
    "import numpy as np\n",
    "import openpyxl as xl\n",
    "from datetime import datetime\n",
    "from openpyxl.utils import get_column_letter\n",
    "from openpyxl.utils.dataframe import dataframe_to_rows\n",
    "from openpyxl.styles import PatternFill, Font, Alignment, Border, Side\n",
    "from excel_functions import ExcelFunctions"
   ]
  },
  {
   "cell_type": "code",
   "execution_count": 24,
   "id": "81817f20",
   "metadata": {},
   "outputs": [],
   "source": [
    "def obtener_mes_actual_y_siguiente():\n",
    "    # Obtener la fecha actual del sistema\n",
    "    fecha_actual = datetime.now()\n",
    "    \n",
    "    # Obtener el número del mes actual (1 para enero, 2 para febrero, etc.)\n",
    "    mes_actual = fecha_actual.month\n",
    "    \n",
    "    # Obtener el número del siguiente mes\n",
    "    mes_siguiente = mes_actual + 1 if mes_actual < 12 else 1\n",
    "\n",
    "    # Obtener los nombres de los meses en español\n",
    "    meses_en_espanol = calendar.month_name[mes_actual].lower(), calendar.month_name[mes_siguiente].lower()\n",
    "\n",
    "    return list(meses_en_espanol)"
   ]
  },
  {
   "cell_type": "code",
   "execution_count": 25,
   "id": "d925c961",
   "metadata": {},
   "outputs": [],
   "source": [
    "def clean_forecast_file(file, dir_location, file_name=None, return_data=True):\n",
    "    '''\n",
    "    Esta función recibe un archivo, ya sea ubicación para abrirlo o bytes y lo limpia.\n",
    "    dir_location: el directorio donde lo va a guardar\n",
    "    '''\n",
    "    # Aquí están las variables necesarias\n",
    "    ef = ExcelFunctions()\n",
    "\n",
    "    # Nombres necesarios\n",
    "    sheet_name = 'Resumen Pzs, Cjs, Kg-Lt'\n",
    "    first_col_name = 'Item'\n",
    "    wanted_cols = ['Item', 'Description']\n",
    "    output_col_names = ['sku', 'descripcion']\n",
    "\n",
    "    # Abrimos el archivo\n",
    "    wb = xl.load_workbook(file, data_only=True)\n",
    "    ws = wb[sheet_name]\n",
    "    \n",
    "    # Encontramos las dimensiones necesarias\n",
    "    row_with_col_names = ef.find_value(ws, 1, first_col_name)[0]\n",
    "    last_row = ef.encontrar_ultima_fila_con_datos(ws, 1, row_with_col_names)\n",
    "\n",
    "    # Traemos los nombres de las columnas\n",
    "    # Primero tenemos que ver a partir de qué columna están las cajas\n",
    "    col_cajas = ef.get_columns_on_row(ws, row_with_col_names-1, num_nones_consecutivos=20)['CAJAS']\n",
    "    dict_cols = ef.get_columns_on_row(ws, row_with_col_names)\n",
    "    aux_dict_cols = ef.get_columns_on_row_repeated_names(ws, row_with_col_names)\n",
    "\n",
    "    # Tenemos que agregar los nombres de los siguientes dos meses para la extraccion\n",
    "    meses = obtener_mes_actual_y_siguiente()\n",
    "    cols_to_extract = wanted_cols + meses # Agregamos los meses deseados a extraer\n",
    "    for i, mes in enumerate(meses):\n",
    "        dict_cols[mes] = col_cajas+i\n",
    "\n",
    "    col_names = output_col_names + meses\n",
    "    extracted_data = (ef.get_data_on_columns(\n",
    "         ws, \n",
    "         row_with_col_names+1, \n",
    "         dict_cols, \n",
    "         last_row, \n",
    "         cols_to_extract, \n",
    "         col_names\n",
    "     )\n",
    "    )\n",
    "\n",
    "    # Limpiamos los datos extraídos\n",
    "    for mes in meses:\n",
    "        extracted_data[mes] = np.round(pd.to_numeric(extracted_data[mes]))\n",
    "        \n",
    "    # Agregamos el año actual a los nombres de los meses\n",
    "    extracted_data = (extracted_data\n",
    "     .set_index(['sku', 'descripcion'])\n",
    "     .add_suffix(f' {datetime.now().year}')\n",
    "     .reset_index()\n",
    "    )\n",
    "        \n",
    "    if file_name is None:\n",
    "        file_name = f'forecast_{\"_\".join(meses)}'\n",
    "        \n",
    "    # Guardamos el archivo\n",
    "    data_bytes, filename = ef.save_and_download_excel_file(\n",
    "        extracted_data, \n",
    "        dir_location, \n",
    "        file_name,\n",
    "        sheet_name = 'Forecast', \n",
    "        n_cols_to_bold=2,\n",
    "        return_data=return_data\n",
    "    )\n",
    "    if return_data:\n",
    "        return data_bytes, filename, aux_dict_cols\n",
    "    \n",
    "    print(f'{file_name} was updated succesfully')"
   ]
  },
  {
   "cell_type": "code",
   "execution_count": 26,
   "id": "113ec341",
   "metadata": {},
   "outputs": [
    {
     "name": "stdout",
     "output_type": "stream",
     "text": [
      "('august', 'september')\n"
     ]
    }
   ],
   "source": [
    "_, _, dict_cols = clean_forecast_file(\n",
    "    '../raw_data/forecasts/Forecast Estadístico Colaborado Julio 2023 Nacional (1).xlsx',\n",
    "    '../transformed_data',\n",
    "    return_data=True\n",
    ")"
   ]
  },
  {
   "cell_type": "code",
   "execution_count": 22,
   "id": "5bc325a7",
   "metadata": {},
   "outputs": [],
   "source": [
    "def convertir_fechas_a_meses_en_ingles(diccionario):\n",
    "    diccionario_meses_en_ingles = {}\n",
    "\n",
    "    for fecha, valores in diccionario.items():\n",
    "        # Verificamos si la llave es del tipo datetime\n",
    "        if isinstance(fecha, datetime):\n",
    "            # Obtenemos el nombre del mes en inglés\n",
    "            nombre_mes = calendar.month_name[fecha.month].lower()\n",
    "            new_key = f'{nombre_mes}_{fecha.year}'\n",
    "            # Agregamos la entrada al nuevo diccionario\n",
    "            diccionario_meses_en_ingles[new_key] = valores\n",
    "        else:\n",
    "            diccionario_meses_en_ingles[fecha] = valores\n",
    "\n",
    "    return diccionario_meses_en_ingles"
   ]
  },
  {
   "cell_type": "code",
   "execution_count": 23,
   "id": "070494ba",
   "metadata": {},
   "outputs": [
    {
     "data": {
      "text/plain": [
       "{'Item': [1],\n",
       " 'Description': [2],\n",
       " 'IA': [3],\n",
       " 'Pzs': [4],\n",
       " 'Kg/Lt': [5],\n",
       " 'july_2023': [6, 20, 34],\n",
       " 'august_2023': [7, 21, 35],\n",
       " 'september_2023': [8, 22, 36],\n",
       " 'october_2023': [9, 23, 37],\n",
       " 'november_2023': [10, 24, 38],\n",
       " 'december_2023': [11, 25, 39],\n",
       " 'january_2024': [12, 26, 40],\n",
       " 'february_2024': [13, 27, 41],\n",
       " 'march_2024': [14, 28, 42],\n",
       " 'april_2024': [15, 29, 43],\n",
       " 'may_2024': [16, 30, 44],\n",
       " 'june_2024': [17, 31, 45],\n",
       " 'july_2024': [18, 32, 46]}"
      ]
     },
     "execution_count": 23,
     "metadata": {},
     "output_type": "execute_result"
    }
   ],
   "source": [
    "convertir_fechas_a_meses_en_ingles(dict_cols)"
   ]
  },
  {
   "cell_type": "code",
   "execution_count": null,
   "id": "fce0413c",
   "metadata": {},
   "outputs": [],
   "source": []
  }
 ],
 "metadata": {
  "kernelspec": {
   "display_name": "Python 3 (ipykernel)",
   "language": "python",
   "name": "python3"
  },
  "language_info": {
   "codemirror_mode": {
    "name": "ipython",
    "version": 3
   },
   "file_extension": ".py",
   "mimetype": "text/x-python",
   "name": "python",
   "nbconvert_exporter": "python",
   "pygments_lexer": "ipython3",
   "version": "3.10.9"
  }
 },
 "nbformat": 4,
 "nbformat_minor": 5
}
