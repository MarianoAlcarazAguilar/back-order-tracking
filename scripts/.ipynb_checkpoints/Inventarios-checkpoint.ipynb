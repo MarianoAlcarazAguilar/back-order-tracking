{
 "cells": [
  {
   "cell_type": "markdown",
   "id": "301a2b4f",
   "metadata": {},
   "source": [
    "# Clean Inventarios"
   ]
  },
  {
   "cell_type": "code",
   "execution_count": 1,
   "id": "7705a0b4",
   "metadata": {},
   "outputs": [],
   "source": [
    "import re\n",
    "import warnings\n",
    "import pandas as pd\n",
    "import numpy as np\n",
    "import openpyxl as xl\n",
    "from excel_functions import ExcelFunctions\n",
    "from openpyxl.utils import get_column_letter\n",
    "from openpyxl.utils.dataframe import dataframe_to_rows\n",
    "from openpyxl.styles import PatternFill, Font, Alignment, Border, Side"
   ]
  },
  {
   "cell_type": "code",
   "execution_count": 2,
   "id": "81c2fdd6",
   "metadata": {},
   "outputs": [],
   "source": [
    "def cargar_libro_excel_sin_warning(nombre_archivo, data_only=True):\n",
    "    # Ignorar temporalmente el warning durante la carga del libro de Excel\n",
    "    with warnings.catch_warnings():\n",
    "        warnings.simplefilter(\"ignore\", category=UserWarning)\n",
    "        libro_excel = xl.load_workbook(nombre_archivo, data_only=data_only)\n",
    "\n",
    "    return libro_excel"
   ]
  },
  {
   "cell_type": "code",
   "execution_count": 3,
   "id": "4b2ecc6c",
   "metadata": {},
   "outputs": [],
   "source": [
    "def extraer_fecha_from_nombre(nombre):\n",
    "    # Definimos una lista de posibles patrones de fecha que podrían aparecer en el nombre\n",
    "    patrones_fecha = [\n",
    "        r'\\b\\d{1,2}-\\d{1,2}-\\d{4}\\b',   # Formato dd-mm-yyyy\n",
    "        r'\\b\\d{1,2}/\\d{1,2}/\\d{4}\\b',   # Formato dd/mm/yyyy\n",
    "        r'\\b\\d{4}-\\d{1,2}-\\d{1,2}\\b',   # Formato yyyy-mm-dd\n",
    "        r'\\b\\d{4}/\\d{1,2}/\\d{1,2}\\b',   # Formato yyyy/mm/dd\n",
    "    ]\n",
    "\n",
    "    # Buscamos los patrones en el nombre y extraemos la primera coincidencia de fecha\n",
    "    fecha = None\n",
    "    for patron in patrones_fecha:\n",
    "        coincidencias = re.findall(patron, nombre)\n",
    "        if coincidencias:\n",
    "            fecha = coincidencias[0]\n",
    "            break\n",
    "\n",
    "    return fecha"
   ]
  },
  {
   "cell_type": "code",
   "execution_count": 4,
   "id": "44d03a85",
   "metadata": {},
   "outputs": [],
   "source": [
    "def clean_inventory_file(file, dir_location, saving_name=None, return_data=True):\n",
    "    '''\n",
    "    Esta función recibe un archivo, ya sea ubicación para abrirlo o bytes y lo limpia.\n",
    "    dir_location: el directorio donde lo va a guardar\n",
    "    '''\n",
    "    # Definimos parámetros necesarios\n",
    "    sheet_name = 'Rep Prod Terminado Ubi Chh Mx'\n",
    "    wanted_cols = ['CLAVE', 'Descripción', 'Total x Producto']\n",
    "    column_output_names = ['sku', 'descripcion', 'inventario']\n",
    "\n",
    "    # Creamos el objeto de funciones de excel\n",
    "    ef = ExcelFunctions()\n",
    "\n",
    "    # Abrimos el archivo pedido\n",
    "    wb = cargar_libro_excel_sin_warning(file, data_only=True)\n",
    "    ws = wb[sheet_name]\n",
    "    fecha = extraer_fecha_from_nombre(file)\n",
    "\n",
    "    # Encontramos la fila con el nombre de las columnas\n",
    "    row_with_col_names = ef.find_value(ws, 1, text='CLAVE')[0]\n",
    "    last_row_with_data = ef.encontrar_ultima_fila_con_datos(ws, 1, 5)\n",
    "\n",
    "    # Encontramos los nombres de las columnas en esa fila\n",
    "    dict_cols = ef.get_columns_on_row(ws, row_with_col_names, num_nones_consecutivos=3)\n",
    "\n",
    "    # Sacamos los datos de las columnas deseadas\n",
    "    extracted_data = ef.get_data_on_columns(\n",
    "        ws, \n",
    "        row_with_col_names+1, \n",
    "        dict_cols, \n",
    "        ending_row=last_row_with_data, \n",
    "        cols_to_extract=wanted_cols,\n",
    "        output_columns=column_output_names\n",
    "    )\n",
    "\n",
    "    # Procesamos un poco los datos\n",
    "    extracted_data = (extracted_data\n",
    "     .assign(\n",
    "         fecha=fecha,\n",
    "         inventario=lambda x: pd.to_numeric(x.inventario, errors='coerce')\n",
    "     )\n",
    "     [['fecha', 'sku', 'descripcion', 'inventario']]\n",
    "    )\n",
    "    \n",
    "    # Guardamos el archivo\n",
    "    if saving_name is None:\n",
    "        saving_name = f'inventario_{fecha.replace(\"-\", \"_\")}'\n",
    "        \n",
    "    bytes_data, filename = ef.save_and_download_excel_file(\n",
    "        extracted_data,\n",
    "        dir_location=dir_location,\n",
    "        file_name=saving_name,\n",
    "        sheet_name='Inventario',\n",
    "        n_cols_to_bold=3,\n",
    "        return_data=return_data\n",
    "    )\n",
    "    \n",
    "    if return_data:\n",
    "        return bytes_data, filename\n",
    "    \n",
    "    print(f'{saving_name} was updated succesfully')"
   ]
  },
  {
   "cell_type": "code",
   "execution_count": 5,
   "id": "ee9ddc2e",
   "metadata": {},
   "outputs": [
    {
     "name": "stdout",
     "output_type": "stream",
     "text": [
      "inventario_31_07_2023 was updated succesfully\n"
     ]
    }
   ],
   "source": [
    "clean_inventory_file(\n",
    "    '../raw_data/DISTRIBUCIÓN Y ABASTO 31-07-2023.xlsx',\n",
    "    '../transformed_data',\n",
    "    return_data=False\n",
    ")"
   ]
  },
  {
   "cell_type": "code",
   "execution_count": null,
   "id": "c26d5442",
   "metadata": {},
   "outputs": [],
   "source": []
  }
 ],
 "metadata": {
  "kernelspec": {
   "display_name": "Python 3 (ipykernel)",
   "language": "python",
   "name": "python3"
  },
  "language_info": {
   "codemirror_mode": {
    "name": "ipython",
    "version": 3
   },
   "file_extension": ".py",
   "mimetype": "text/x-python",
   "name": "python",
   "nbconvert_exporter": "python",
   "pygments_lexer": "ipython3",
   "version": "3.10.9"
  }
 },
 "nbformat": 4,
 "nbformat_minor": 5
}
